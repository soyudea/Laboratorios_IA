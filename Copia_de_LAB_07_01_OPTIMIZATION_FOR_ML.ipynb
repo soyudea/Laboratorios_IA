{
  "cells": [
    {
      "cell_type": "markdown",
      "metadata": {
        "id": "view-in-github",
        "colab_type": "text"
      },
      "source": [
        "<a href=\"https://colab.research.google.com/github/soyudea/Laboratorios_IA/blob/main/Copia_de_LAB_07_01_OPTIMIZATION_FOR_ML.ipynb\" target=\"_parent\"><img src=\"https://colab.research.google.com/assets/colab-badge.svg\" alt=\"Open In Colab\"/></a>"
      ]
    },
    {
      "cell_type": "markdown",
      "metadata": {
        "id": "NsyoKotdrDMM"
      },
      "source": [
        "# LAB 07.01 - Optimization for ML"
      ]
    },
    {
      "cell_type": "code",
      "execution_count": null,
      "metadata": {
        "id": "cGF2WuRzrDMP",
        "outputId": "4391a22e-7a0b-421b-bdb9-1e8bed0b9676",
        "colab": {
          "base_uri": "https://localhost:8080/",
          "height": 58
        }
      },
      "outputs": [
        {
          "output_type": "display_data",
          "data": {
            "text/plain": [
              "<IPython.core.display.HTML object>"
            ],
            "text/html": [
              "\n",
              "<meta name=\"google-signin-client_id\"\n",
              "      content=\"461673936472-kdjosv61up3ac1ajeuq6qqu72upilmls.apps.googleusercontent.com\"/>\n",
              "<script src=\"https://apis.google.com/js/client:platform.js?onload=google_button_start\"></script>\n",
              "    "
            ]
          },
          "metadata": {}
        },
        {
          "output_type": "execute_result",
          "data": {
            "text/plain": [
              "<IPython.core.display.HTML object>"
            ],
            "text/html": [
              "<h3>See <a href='https://m5knaekxo6.execute-api.us-west-2.amazonaws.com/dev-v0001/rlxmooc/web/login' target='_blank'>my courses and progress</a></h2>"
            ]
          },
          "metadata": {},
          "execution_count": 36
        }
      ],
      "source": [
        "!wget --no-cache -O init.py -q https://raw.githubusercontent.com/rramosp/ai4eng.v1/main/content/init.py\n",
        "import init; init.init(force_download=False); init.get_weblink()\n"
      ]
    },
    {
      "cell_type": "code",
      "execution_count": null,
      "metadata": {
        "id": "vVMheU7vrDMQ",
        "colab": {
          "base_uri": "https://localhost:8080/",
          "height": 74,
          "referenced_widgets": [
            "42cdead111b6415c8fa45044374be6b6",
            "e421337f48bb44e58a1fd5a85bd27f8f",
            "83e5dd8194d945349fa5395e38d789ef",
            "5e5ccc3e879d45ba824a2ad3b4153c97",
            "47f4244581c84be7ae6898389a52e3bb",
            "17f65919999448e4a9db3047ec944d14",
            "81b7a98155714f41b1e09ae881a1eebf",
            "810f0495b43f443ba4d4e02751810835",
            "19fb62844b1b41d9a79dca4957f12930",
            "97f04063514f4ea99761d8010dab59a7",
            "bd7cdc4ac1b943c6bc1742971b42a500",
            "3e7034c545d543fabf0420e90bc541c7",
            "8832ec27e76448569296cba253ae61a0",
            "cbbdbc0775a84a28a8b653380a10f04b",
            "c64c62bf9ddc4818a177448147ee084a",
            "05be8b0dc68145c5bff692b16509ad5b",
            "69ca55b3a2fa445eadd70217bbf49439",
            "5c1d7d82978b4ca1887fd6a69d765af8",
            "778c2797134e4746a8e4f70ba20baf36"
          ]
        },
        "outputId": "186cd7b8-1fda-48bc-9937-305a6176026a"
      },
      "outputs": [
        {
          "output_type": "stream",
          "name": "stdout",
          "text": [
            "logging in as omara.torres@udea.edu.co ... please wait\n",
            "using course session ai4eng.v1.udea.r2::2023.1\n",
            "success!! you are logged in\n"
          ]
        }
      ],
      "source": [
        "from local.lib.rlxmoocapi import submit, session\n",
        "session.LoginSequence(endpoint=init.endpoint, course_id=init.course_id, lab_id=\"L07.01\", varname=\"student\");"
      ]
    },
    {
      "cell_type": "code",
      "execution_count": null,
      "metadata": {
        "id": "b2FdzFavrDMR"
      },
      "outputs": [],
      "source": [
        "from sklearn.datasets import make_moons\n",
        "import numpy as np\n",
        "import matplotlib.pyplot as plt\n",
        "import pandas as pd\n",
        "from local.lib import mlutils\n",
        "%matplotlib inline"
      ]
    },
    {
      "cell_type": "markdown",
      "metadata": {
        "id": "4UehXzENrDMR"
      },
      "source": [
        "## Dataset \n",
        "\n",
        "you have data in a matrix $\\mathbf{X} \\in \\mathbb{R}^{m\\times n}$ and the corresponding labels $\\mathbf{y} \\in \\mathbb{R}^m$.\n",
        "\n",
        "each row in matrix $\\mathbf{X}$ contains one data point $\\mathbf{x}^{(i)}$\n",
        "\n",
        "$$\\begin{bmatrix}\n",
        " x^{(0)}\\\\\n",
        " x^{(1)}\\\\\n",
        " ... \\\\\n",
        " x^{(m-1)} \n",
        "\\end{bmatrix}\n",
        "$$\n",
        "\n",
        "and each data point is a vector $\\mathbf{x}^{(i)}=[x^{(i)}_0, x^{(i)}_1,...,x^{(i)}_{n-1}]$.\n",
        "\n",
        "Also, each data point has an associated label $\\mathbf{y} = [y^{(0)}, y^{(1)},..., y^{(m-1)}]$.\n",
        "\n",
        "We will be doing **binary classification** so $y^{(0)}\\in \\{0,1\\}$"
      ]
    },
    {
      "cell_type": "code",
      "execution_count": null,
      "metadata": {
        "id": "ok8qEbwhrDMR",
        "outputId": "2c140368-af93-4c0d-a6bd-b2cf762cfb0a",
        "colab": {
          "base_uri": "https://localhost:8080/"
        }
      },
      "outputs": [
        {
          "output_type": "stream",
          "name": "stdout",
          "text": [
            "m=200\n",
            "n=2\n"
          ]
        },
        {
          "output_type": "execute_result",
          "data": {
            "text/plain": [
              "((200, 2), (200,))"
            ]
          },
          "metadata": {},
          "execution_count": 38
        }
      ],
      "source": [
        "\n",
        "d = pd.read_csv(\"local/data/moons.csv\")\n",
        "X = d[[\"col1\", \"col2\"]].values\n",
        "y = d[\"target\"].values\n",
        "print (\"m=%d\\nn=%d\"%(X.shape[0], X.shape[1]))\n",
        "X.shape, y.shape\n"
      ]
    },
    {
      "cell_type": "code",
      "execution_count": null,
      "metadata": {
        "id": "WQi9PWHVrDMS",
        "outputId": "b8bb1ac4-c826-4ef7-9d87-63ade264ae8f",
        "colab": {
          "base_uri": "https://localhost:8080/"
        }
      },
      "outputs": [
        {
          "output_type": "stream",
          "name": "stdout",
          "text": [
            "[[ 1.303374   -0.81478084]\n",
            " [-0.98727894 -0.06456482]\n",
            " [ 2.317555    0.44925394]\n",
            " [ 0.85310268 -0.22083508]\n",
            " [-0.97006406  0.64095693]\n",
            " [ 1.65849049 -0.2342485 ]\n",
            " [ 0.8684624  -0.28940167]\n",
            " [ 0.05631143  0.00296565]\n",
            " [ 0.88824669 -0.12888889]\n",
            " [ 0.9925954   0.31451716]]\n",
            "[1 0 1 1 0 1 1 1 1 0]\n"
          ]
        }
      ],
      "source": [
        "\n",
        "print (X[:10])\n",
        "print (y[:10])\n"
      ]
    },
    {
      "cell_type": "code",
      "execution_count": null,
      "metadata": {
        "id": "8IVvInSzrDMT",
        "outputId": "6b1c5da4-3856-4493-86ae-ddc9686d4e2b",
        "colab": {
          "base_uri": "https://localhost:8080/",
          "height": 430
        }
      },
      "outputs": [
        {
          "output_type": "display_data",
          "data": {
            "text/plain": [
              "<Figure size 640x480 with 1 Axes>"
            ],
            "image/png": "[encoded data removed]"
          },
          "metadata": {}
        }
      ],
      "source": [
        "\n",
        "plt.scatter(X[:,0][y==0], X[:,1][y==0], color=\"red\", label=\"class 0\")\n",
        "plt.scatter(X[:,0][y==1], X[:,1][y==1], color=\"blue\", label=\"class 1\")\n",
        "plt.legend();\n"
      ]
    },
    {
      "cell_type": "markdown",
      "metadata": {
        "id": "2p4LIQ9CrDMT"
      },
      "source": [
        "## Task 1: Create a prediction function\n",
        "\n",
        "**complete the following prediction function** which accepts:\n",
        "    \n",
        "- $\\mathbf{\\theta} = [\\theta_0, \\theta_1,... \\theta_{n-1}] \\in \\mathbb{R}^n$, a `numpy` vector.\n",
        "- $b  \\in \\mathbb{R}$ , a `float`.\n",
        "- $\\mathbf{X} \\in \\mathbb{R}^{m\\times n}$, a `numpy` 2D array.\n",
        "\n",
        "and returns\n",
        "\n",
        "- $\\hat{\\mathbf{y}} = [\\hat{y}^{(0)}, \\hat{y}^{(1)}, ..., \\hat{y}^{(m-1)}] \\in \\mathbb{R}^m$ defined as follows\n",
        "\n",
        "$$\\hat{y}^{(i)} = \\text{sigm}(\\mathbf{\\theta} \\cdot \\mathbf{x}^{(i)} + b) = \\text{sigm}(\\theta_0 x^{(i)}_0 + \\theta_1 x^{(i)}_1 + b)$$\n",
        "\n",
        "with \n",
        "\n",
        "$$\\text{sigm}(z) = \\frac{1}{1+e^{-z}}$$\n",
        "\n",
        "note that we can also express the prediction vector $\\hat{\\mathbf{y}}$ over the whole dataset as\n",
        "\n",
        "$$\\hat{\\mathbf{y}} = \\text{sigm}(\\mathbf{\\theta} \\cdot \\mathbf{X} + b)$$\n",
        "\n",
        "observe that for any $z$, the sigmoid function squeshes its value between 0 and 1. It can  be simply seen as a continuous **step** function which converts any negative value into 0, and any positive value into 1.\n",
        "\n",
        "**challenge**: use only one line of python code (not counting the $\\text{sigm}$ definition)\n",
        "\n",
        "**warn**: your function must work with any $\\mathbf{X} \\in \\mathbb{R}^{m\\times n}$ and  $\\mathbf{\\theta} \\in \\mathbb{R}^n$, for any $m$ and $n$, not only for $n=2$"
      ]
    },
    {
      "cell_type": "code",
      "execution_count": null,
      "metadata": {
        "id": "Gn7Z_m3GrDMT",
        "outputId": "a194480f-f037-46c2-d7d0-5fa7dcf1fe16"
      },
      "outputs": [
        {
          "data": {
            "text/plain": [
              "<matplotlib.lines.Line2D at 0x7f23f42aedd0>"
            ]
          },
          "execution_count": 3,
          "metadata": {},
          "output_type": "execute_result"
        },
        {
          "data": {
            "image/png": "[encoded data removed]",
            "text/plain": [
              "<Figure size 432x288 with 1 Axes>"
            ]
          },
          "metadata": {
            "needs_background": "light"
          },
          "output_type": "display_data"
        }
      ],
      "source": [
        "\n",
        "z = np.linspace(-10,10,100)\n",
        "sigm = lambda x: 1/(1+np.exp(-x))\n",
        "plt.plot(z, sigm(z)); plt.grid(); plt.xlabel(\"z\"); plt.ylabel(\"sigm(z)\")\n",
        "plt.axhline(0.5, color=\"black\"); plt.axvline(0, color=\"black\")\n"
      ]
    },
    {
      "cell_type": "code",
      "execution_count": null,
      "metadata": {
        "id": "Mpsj8s4vrDMU"
      },
      "outputs": [],
      "source": []
    },
    {
      "cell_type": "code",
      "execution_count": null,
      "metadata": {
        "id": "tNAZiN-mrDMU"
      },
      "outputs": [],
      "source": [
        "def prediction(t,b,X):\n",
        "    sigm = lambda z: 1/(1+np.exp(-z))    \n",
        "    yhat = sigm(np.dot(X,t)+b)\n",
        "    return yhat "
      ]
    },
    {
      "cell_type": "code",
      "source": [],
      "metadata": {
        "id": "C_a4CbqLyZnO"
      },
      "execution_count": null,
      "outputs": []
    },
    {
      "cell_type": "markdown",
      "metadata": {
        "id": "iqxqLRDkrDMU"
      },
      "source": [
        "check manually your code. The following should yield a vector with 200 elements, whose sum should be 99.97 at its four first elements \n",
        "\n",
        "    [0.02328672 0.91257015 0.03781132 0.16139629 ... ]"
      ]
    },
    {
      "cell_type": "code",
      "execution_count": null,
      "metadata": {
        "id": "D4L7oBk4rDMU"
      },
      "outputs": [],
      "source": [
        "t,b = np.r_[[-2,2]], 0.5\n",
        "yhat = prediction(t,b,X)\n",
        "print (yhat)\n",
        "print (np.sum(yhat))\n",
        "print (yhat)"
      ]
    },
    {
      "cell_type": "markdown",
      "metadata": {
        "id": "RQDr7Hn6rDMV"
      },
      "source": [
        "**submit your code**"
      ]
    },
    {
      "cell_type": "code",
      "execution_count": null,
      "metadata": {
        "scrolled": true,
        "id": "0gXwOUF0rDMV",
        "colab": {
          "base_uri": "https://localhost:8080/",
          "height": 163
        },
        "outputId": "65887b4e-995e-4f75-e30d-30bdb48c2510"
      },
      "outputs": [
        {
          "output_type": "display_data",
          "data": {
            "text/plain": [
              "<IPython.core.display.HTML object>"
            ],
            "text/html": [
              "\n",
              "                    <b>task_01 submitted.</b> <b><font color=\"blue\">your grade is 5</font></b> \n",
              "                    <p/><pre>----- grader message -------</pre><br/>testing with 100 random calls<br/><br/><b>correct</b><pre>----------------------------</pre>\n",
              "                    <p/><p/>\n",
              "                    <div style=\"font-size:10px\"><b>SUBMISSION CODE</b> ZiQMurAHO1GEgczIxhSCXyTPVAte7hNIg5eXBPT8VPOPmsK/A74TMVxIcbNPWVcEUyY+aLjW1HjPyPEn+3DMw4Uz6faT3s0iTdjaM+zoaUgXy/gd5IvD+Ke18JZbuAuBQmk3Z281fEefvRA2eQlzCZ38pAKqO9TXS7oI8B+axA8=</div>\n",
              "                    "
            ]
          },
          "metadata": {}
        }
      ],
      "source": [
        "student.submit_task(globals(), task_id=\"task_01\");"
      ]
    },
    {
      "cell_type": "code",
      "execution_count": null,
      "metadata": {
        "id": "QoVoOjUVrDMV"
      },
      "outputs": [],
      "source": []
    },
    {
      "cell_type": "code",
      "execution_count": null,
      "metadata": {
        "id": "016jyR-IrDMV"
      },
      "outputs": [],
      "source": []
    },
    {
      "cell_type": "code",
      "execution_count": null,
      "metadata": {
        "id": "nmCNFu1nrDMV"
      },
      "outputs": [],
      "source": []
    },
    {
      "cell_type": "markdown",
      "metadata": {
        "id": "ohxBB8vzrDMV"
      },
      "source": [
        "## Task 2: Create the loss function\n",
        "\n",
        "accepting the following paramters\n",
        "\n",
        "- $\\mathbf{\\theta} = [\\theta_0, \\theta_1] \\in \\mathbb{R}^n$, a `numpy` vector.\n",
        "- $b  \\in \\mathbb{R}$ , a `float`.\n",
        "- $\\mathbf{X} \\in \\mathbb{R}^{m\\times n}$, a `numpy` 2D array.\n",
        "- $\\mathbf{y} \\in \\mathbb{R}^m$, a `numpy` vector.\n",
        "\n",
        "\n",
        "$$\\text{loss}(\\theta, b, \\mathbf{X} , \\mathbf{y}) = \\frac{1}{m}\\sum_{i=0}^{m-1}(\\hat{y}^{(i)}-y^{(i)})^2$$\n",
        "\n",
        "**challenge**: use only one line of python (not counting the `sigm` and `prediction` functions)."
      ]
    },
    {
      "cell_type": "code",
      "execution_count": null,
      "metadata": {
        "id": "e8xpL97ZrDMV"
      },
      "outputs": [],
      "source": [
        "def loss(t,b,X,y):\n",
        "    sigm = lambda z: 1/(1+np.exp(-z))  \n",
        "    yhat = sigm(np.dot(X,t)+b)      \n",
        "    result =np.sum((yhat-y)**2)/len(y) \n",
        "    return result"
      ]
    },
    {
      "cell_type": "markdown",
      "metadata": {
        "id": "Q8JUzYA3rDMW"
      },
      "source": [
        "check manually your code, you should get a loss of 0.664 approx."
      ]
    },
    {
      "cell_type": "code",
      "execution_count": null,
      "metadata": {
        "id": "FM1ZkPZqrDMW",
        "colab": {
          "base_uri": "https://localhost:8080/"
        },
        "outputId": "d0f07261-a605-4020-87bf-8afe54d70285"
      },
      "outputs": [
        {
          "output_type": "execute_result",
          "data": {
            "text/plain": [
              "0.6640737783637011"
            ]
          },
          "metadata": {},
          "execution_count": 34
        }
      ],
      "source": [
        "t,b = np.r_[[-2,2]], 0.5\n",
        "loss(t,b,X,y)"
      ]
    },
    {
      "cell_type": "markdown",
      "metadata": {
        "id": "9eVhv2-jrDMW"
      },
      "source": [
        "**submit your code**"
      ]
    },
    {
      "cell_type": "code",
      "execution_count": null,
      "metadata": {
        "scrolled": false,
        "id": "_aYt-hrFrDMW",
        "colab": {
          "base_uri": "https://localhost:8080/",
          "height": 163
        },
        "outputId": "a9554546-1811-42ce-b8a6-944b62f86c1f"
      },
      "outputs": [
        {
          "output_type": "display_data",
          "data": {
            "text/plain": [
              "<IPython.core.display.HTML object>"
            ],
            "text/html": [
              "\n",
              "                    <b>task_02 submitted.</b> <b><font color=\"blue\">your grade is 5</font></b> \n",
              "                    <p/><pre>----- grader message -------</pre><br/>testing with 100 random calls<br/><br/><b>correct</b><pre>----------------------------</pre>\n",
              "                    <p/><p/>\n",
              "                    <div style=\"font-size:10px\"><b>SUBMISSION CODE</b> XuM24avqA3LYqX496g4yzzG337GfEt1DFEcS+B5CkHuyfgeg7sS6teyuObjtqyFeMQncY27bkSKcb6FML/Q1540snE7VGoQnCi2SLt2dYAcoGi4vl/3ekGFfDVPZd49+KaqpuZAXYSTQx6o6UdVm2ljLHUhmg54k1NVqm5zzkLE=</div>\n",
              "                    "
            ]
          },
          "metadata": {}
        }
      ],
      "source": [
        "student.submit_task(globals(), task_id=\"task_02\");"
      ]
    },
    {
      "cell_type": "code",
      "execution_count": null,
      "metadata": {
        "id": "DoDE2AIzrDMW"
      },
      "outputs": [],
      "source": []
    },
    {
      "cell_type": "markdown",
      "metadata": {
        "id": "ctAy8bBwrDMW"
      },
      "source": [
        "## Task 3: Obtain the best $\\theta$ and $b$ with black box optimization\n",
        "\n",
        "Complete the following function so that it returns the best $\\theta$ and $b$ for a given data set.\n",
        "\n",
        "Observe that \n",
        "\n",
        "- `x0` in `scipy.optimize.minimize` must be a vector of three items, the first two corresponding to $\\theta_0$ and $\\theta_1$, and the last one to $b$. \n",
        "- the return value of the optimizer `r.x` will also contain three items, and you will have to separate the first two into `t` and the last one into `b`. \n",
        "- you will have to adapt your `loss` function created before so that it extracts $\\theta$ and $b$ from the variable `params`."
      ]
    },
    {
      "cell_type": "code",
      "execution_count": null,
      "metadata": {
        "id": "Idk5-3g0rDMW"
      },
      "outputs": [],
      "source": [
        "def fit(X,y):\n",
        "    from scipy.optimize import minimize\n",
        "    \n",
        "    def loss(params):\n",
        "        t = ... # extract t from params\n",
        "        b = ... # extract b params\n",
        "        sigm = lambda z: 1/(1+np.exp(-z)) \n",
        "        yhat = sigm(np.dot(X,t)+b)    \n",
        "        result =np.sum((yhat-y)**2)/len(y)         \n",
        "        return result\n",
        "    \n",
        "    tinit = np.zeros(shape=X.shape[1]+1) # keep this initialization\n",
        "    r = minimize(...) # complete the call to minimize\n",
        "    t = ... # extract t from r.x\n",
        "    b = ... # extract b from r.x\n",
        "    return t, b"
      ]
    },
    {
      "cell_type": "code",
      "execution_count": null,
      "metadata": {
        "id": "ytphonwtrDMW"
      },
      "outputs": [],
      "source": [
        "t, b = fit(X,y)"
      ]
    },
    {
      "cell_type": "markdown",
      "metadata": {
        "id": "ujSAW7gnrDMX"
      },
      "source": [
        "check manually your code, you should get an accuracy of about 84%-87%, and a classification frontier similar to this one.\n",
        "\n",
        "**Observe** how we convert the sigmoid output which can be any number $\\in [0,1]$, into a discrete classification (0 or 1) by thresholding on 0.5"
      ]
    },
    {
      "cell_type": "code",
      "execution_count": null,
      "metadata": {
        "id": "EpgIje3VrDMX",
        "outputId": "08a34f95-1424-4185-c2af-ab53b700b08c"
      },
      "outputs": [
        {
          "data": {
            "image/png": "[encoded data removed]",
            "text/plain": [
              "<IPython.core.display.Image object>"
            ]
          },
          "execution_count": 28,
          "metadata": {},
          "output_type": "execute_result"
        }
      ],
      "source": [
        "\n",
        "from IPython.display import Image\n",
        "Image(filename='local/imgs/logregmoons.png')\n"
      ]
    },
    {
      "cell_type": "code",
      "execution_count": null,
      "metadata": {
        "id": "yl1YMbY2rDMX"
      },
      "outputs": [],
      "source": [
        "t, b"
      ]
    },
    {
      "cell_type": "code",
      "execution_count": null,
      "metadata": {
        "id": "xbZkd8ewrDMX"
      },
      "outputs": [],
      "source": [
        "mlutils.plot_2Ddata_with_boundary(lambda X: prediction(t,b,X)>.5, X, y)"
      ]
    },
    {
      "cell_type": "code",
      "execution_count": null,
      "metadata": {
        "id": "orAjn7SOrDMX"
      },
      "outputs": [],
      "source": [
        "acc = np.mean( (prediction(t,b,X)>.5)==y)\n",
        "print (\"accuracy %.3f\"%acc)"
      ]
    },
    {
      "cell_type": "code",
      "execution_count": null,
      "metadata": {
        "id": "ByxTqg6wrDMX"
      },
      "outputs": [],
      "source": []
    },
    {
      "cell_type": "markdown",
      "metadata": {
        "id": "YV-HQzhirDMX"
      },
      "source": [
        "**submit your code**"
      ]
    },
    {
      "cell_type": "code",
      "execution_count": null,
      "metadata": {
        "scrolled": false,
        "id": "Fmj_hiXcrDMX"
      },
      "outputs": [],
      "source": [
        "student.submit_task(globals(), task_id=\"task_03\");"
      ]
    },
    {
      "cell_type": "code",
      "execution_count": null,
      "metadata": {
        "id": "H9d8FmwprDMX"
      },
      "outputs": [],
      "source": []
    },
    {
      "cell_type": "code",
      "execution_count": null,
      "metadata": {
        "id": "u40DpJwsrDMX"
      },
      "outputs": [],
      "source": []
    }
  ],
  "metadata": {
    "kernelspec": {
      "display_name": "Python 3",
      "language": "python",
      "name": "python3"
    },
    "language_info": {
      "codemirror_mode": {
        "name": "ipython",
        "version": 3
      },
      "file_extension": ".py",
      "mimetype": "text/x-python",
      "name": "python",
      "nbconvert_exporter": "python",
      "pygments_lexer": "ipython3",
      "version": "3.7.3"
    },
    "colab": {
      "provenance": [],
      "include_colab_link": true
    },
    "widgets": {
      "application/vnd.jupyter.widget-state+json": {
        "42cdead111b6415c8fa45044374be6b6": {
          "model_module": "@jupyter-widgets/controls",
          "model_name": "HBoxModel",
          "model_module_version": "1.5.0",
          "state": {
            "_dom_classes": [],
            "_model_module": "@jupyter-widgets/controls",
            "_model_module_version": "1.5.0",
            "_model_name": "HBoxModel",
            "_view_count": null,
            "_view_module": "@jupyter-widgets/controls",
            "_view_module_version": "1.5.0",
            "_view_name": "HBoxView",
            "box_style": "",
            "children": [
              "IPY_MODEL_e421337f48bb44e58a1fd5a85bd27f8f",
              "IPY_MODEL_83e5dd8194d945349fa5395e38d789ef",
              "IPY_MODEL_5e5ccc3e879d45ba824a2ad3b4153c97",
              "IPY_MODEL_47f4244581c84be7ae6898389a52e3bb"
            ],
            "layout": "IPY_MODEL_17f65919999448e4a9db3047ec944d14"
          }
        },
        "e421337f48bb44e58a1fd5a85bd27f8f": {
          "model_module": "@jupyter-widgets/controls",
          "model_name": "VBoxModel",
          "model_module_version": "1.5.0",
          "state": {
            "_dom_classes": [],
            "_model_module": "@jupyter-widgets/controls",
            "_model_module_version": "1.5.0",
            "_model_name": "VBoxModel",
            "_view_count": null,
            "_view_module": "@jupyter-widgets/controls",
            "_view_module_version": "1.5.0",
            "_view_name": "VBoxView",
            "box_style": "",
            "children": [
              "IPY_MODEL_81b7a98155714f41b1e09ae881a1eebf",
              "IPY_MODEL_810f0495b43f443ba4d4e02751810835"
            ],
            "layout": "IPY_MODEL_19fb62844b1b41d9a79dca4957f12930"
          }
        },
        "83e5dd8194d945349fa5395e38d789ef": {
          "model_module": "@jupyter-widgets/controls",
          "model_name": "ButtonModel",
          "model_module_version": "1.5.0",
          "state": {
            "_dom_classes": [
              "login_button"
            ],
            "_model_module": "@jupyter-widgets/controls",
            "_model_module_version": "1.5.0",
            "_model_name": "ButtonModel",
            "_view_count": null,
            "_view_module": "@jupyter-widgets/controls",
            "_view_module_version": "1.5.0",
            "_view_name": "ButtonView",
            "button_style": "",
            "description": "Login with email",
            "disabled": false,
            "icon": "",
            "layout": "IPY_MODEL_97f04063514f4ea99761d8010dab59a7",
            "style": "IPY_MODEL_bd7cdc4ac1b943c6bc1742971b42a500",
            "tooltip": ""
          }
        },
        "5e5ccc3e879d45ba824a2ad3b4153c97": {
          "model_module": "@jupyter-widgets/controls",
          "model_name": "HTMLModel",
          "model_module_version": "1.5.0",
          "state": {
            "_dom_classes": [],
            "_model_module": "@jupyter-widgets/controls",
            "_model_module_version": "1.5.0",
            "_model_name": "HTMLModel",
            "_view_count": null,
            "_view_module": "@jupyter-widgets/controls",
            "_view_module_version": "1.5.0",
            "_view_name": "HTMLView",
            "description": "",
            "description_tooltip": null,
            "layout": "IPY_MODEL_3e7034c545d543fabf0420e90bc541c7",
            "placeholder": "​",
            "style": "IPY_MODEL_8832ec27e76448569296cba253ae61a0",
            "value": "<center><big>or</big></center>"
          }
        },
        "47f4244581c84be7ae6898389a52e3bb": {
          "model_module": "@jupyter-widgets/controls",
          "model_name": "ButtonModel",
          "model_module_version": "1.5.0",
          "state": {
            "_dom_classes": [
              "google_button"
            ],
            "_model_module": "@jupyter-widgets/controls",
            "_model_module_version": "1.5.0",
            "_model_name": "ButtonModel",
            "_view_count": null,
            "_view_module": "@jupyter-widgets/controls",
            "_view_module_version": "1.5.0",
            "_view_name": "ButtonView",
            "button_style": "",
            "description": "Login with Google",
            "disabled": false,
            "icon": "",
            "layout": "IPY_MODEL_cbbdbc0775a84a28a8b653380a10f04b",
            "style": "IPY_MODEL_c64c62bf9ddc4818a177448147ee084a",
            "tooltip": ""
          }
        },
        "17f65919999448e4a9db3047ec944d14": {
          "model_module": "@jupyter-widgets/base",
          "model_name": "LayoutModel",
          "model_module_version": "1.2.0",
          "state": {
            "_model_module": "@jupyter-widgets/base",
            "_model_module_version": "1.2.0",
            "_model_name": "LayoutModel",
            "_view_count": null,
            "_view_module": "@jupyter-widgets/base",
            "_view_module_version": "1.2.0",
            "_view_name": "LayoutView",
            "align_content": null,
            "align_items": null,
            "align_self": null,
            "border": null,
            "bottom": null,
            "display": null,
            "flex": null,
            "flex_flow": null,
            "grid_area": null,
            "grid_auto_columns": null,
            "grid_auto_flow": null,
            "grid_auto_rows": null,
            "grid_column": null,
            "grid_gap": null,
            "grid_row": null,
            "grid_template_areas": null,
            "grid_template_columns": null,
            "grid_template_rows": null,
            "height": null,
            "justify_content": null,
            "justify_items": null,
            "left": null,
            "margin": null,
            "max_height": null,
            "max_width": null,
            "min_height": null,
            "min_width": null,
            "object_fit": null,
            "object_position": null,
            "order": null,
            "overflow": null,
            "overflow_x": null,
            "overflow_y": null,
            "padding": null,
            "right": null,
            "top": null,
            "visibility": null,
            "width": null
          }
        },
        "81b7a98155714f41b1e09ae881a1eebf": {
          "model_module": "@jupyter-widgets/controls",
          "model_name": "TextModel",
          "model_module_version": "1.5.0",
          "state": {
            "_dom_classes": [],
            "_model_module": "@jupyter-widgets/controls",
            "_model_module_version": "1.5.0",
            "_model_name": "TextModel",
            "_view_count": null,
            "_view_module": "@jupyter-widgets/controls",
            "_view_module_version": "1.5.0",
            "_view_name": "TextView",
            "continuous_update": true,
            "description": "email",
            "description_tooltip": null,
            "disabled": false,
            "layout": "IPY_MODEL_05be8b0dc68145c5bff692b16509ad5b",
            "placeholder": "​",
            "style": "IPY_MODEL_69ca55b3a2fa445eadd70217bbf49439",
            "value": "omara.torres@udea.edu.co"
          }
        },
        "810f0495b43f443ba4d4e02751810835": {
          "model_module": "@jupyter-widgets/controls",
          "model_name": "PasswordModel",
          "model_module_version": "1.5.0",
          "state": {
            "_dom_classes": [],
            "_model_module": "@jupyter-widgets/controls",
            "_model_module_version": "1.5.0",
            "_model_name": "PasswordModel",
            "_view_count": null,
            "_view_module": "@jupyter-widgets/controls",
            "_view_module_version": "1.5.0",
            "_view_name": "PasswordView",
            "continuous_update": true,
            "description": "password",
            "description_tooltip": null,
            "disabled": false,
            "layout": "IPY_MODEL_5c1d7d82978b4ca1887fd6a69d765af8",
            "placeholder": "​",
            "style": "IPY_MODEL_778c2797134e4746a8e4f70ba20baf36",
            "value": "yeveja23"
          }
        },
        "19fb62844b1b41d9a79dca4957f12930": {
          "model_module": "@jupyter-widgets/base",
          "model_name": "LayoutModel",
          "model_module_version": "1.2.0",
          "state": {
            "_model_module": "@jupyter-widgets/base",
            "_model_module_version": "1.2.0",
            "_model_name": "LayoutModel",
            "_view_count": null,
            "_view_module": "@jupyter-widgets/base",
            "_view_module_version": "1.2.0",
            "_view_name": "LayoutView",
            "align_content": null,
            "align_items": null,
            "align_self": null,
            "border": null,
            "bottom": null,
            "display": null,
            "flex": null,
            "flex_flow": null,
            "grid_area": null,
            "grid_auto_columns": null,
            "grid_auto_flow": null,
            "grid_auto_rows": null,
            "grid_column": null,
            "grid_gap": null,
            "grid_row": null,
            "grid_template_areas": null,
            "grid_template_columns": null,
            "grid_template_rows": null,
            "height": null,
            "justify_content": null,
            "justify_items": null,
            "left": null,
            "margin": null,
            "max_height": null,
            "max_width": null,
            "min_height": null,
            "min_width": null,
            "object_fit": null,
            "object_position": null,
            "order": null,
            "overflow": null,
            "overflow_x": null,
            "overflow_y": null,
            "padding": null,
            "right": null,
            "top": null,
            "visibility": null,
            "width": null
          }
        },
        "97f04063514f4ea99761d8010dab59a7": {
          "model_module": "@jupyter-widgets/base",
          "model_name": "LayoutModel",
          "model_module_version": "1.2.0",
          "state": {
            "_model_module": "@jupyter-widgets/base",
            "_model_module_version": "1.2.0",
            "_model_name": "LayoutModel",
            "_view_count": null,
            "_view_module": "@jupyter-widgets/base",
            "_view_module_version": "1.2.0",
            "_view_name": "LayoutView",
            "align_content": null,
            "align_items": null,
            "align_self": null,
            "border": null,
            "bottom": null,
            "display": null,
            "flex": null,
            "flex_flow": null,
            "grid_area": null,
            "grid_auto_columns": null,
            "grid_auto_flow": null,
            "grid_auto_rows": null,
            "grid_column": null,
            "grid_gap": null,
            "grid_row": null,
            "grid_template_areas": null,
            "grid_template_columns": null,
            "grid_template_rows": null,
            "height": "53px",
            "justify_content": null,
            "justify_items": null,
            "left": null,
            "margin": null,
            "max_height": null,
            "max_width": null,
            "min_height": null,
            "min_width": null,
            "object_fit": null,
            "object_position": null,
            "order": null,
            "overflow": null,
            "overflow_x": null,
            "overflow_y": null,
            "padding": null,
            "right": null,
            "top": null,
            "visibility": null,
            "width": "150px"
          }
        },
        "bd7cdc4ac1b943c6bc1742971b42a500": {
          "model_module": "@jupyter-widgets/controls",
          "model_name": "ButtonStyleModel",
          "model_module_version": "1.5.0",
          "state": {
            "_model_module": "@jupyter-widgets/controls",
            "_model_module_version": "1.5.0",
            "_model_name": "ButtonStyleModel",
            "_view_count": null,
            "_view_module": "@jupyter-widgets/base",
            "_view_module_version": "1.2.0",
            "_view_name": "StyleView",
            "button_color": null,
            "font_weight": ""
          }
        },
        "3e7034c545d543fabf0420e90bc541c7": {
          "model_module": "@jupyter-widgets/base",
          "model_name": "LayoutModel",
          "model_module_version": "1.2.0",
          "state": {
            "_model_module": "@jupyter-widgets/base",
            "_model_module_version": "1.2.0",
            "_model_name": "LayoutModel",
            "_view_count": null,
            "_view_module": "@jupyter-widgets/base",
            "_view_module_version": "1.2.0",
            "_view_name": "LayoutView",
            "align_content": null,
            "align_items": null,
            "align_self": null,
            "border": null,
            "bottom": null,
            "display": null,
            "flex": null,
            "flex_flow": null,
            "grid_area": null,
            "grid_auto_columns": null,
            "grid_auto_flow": null,
            "grid_auto_rows": null,
            "grid_column": null,
            "grid_gap": null,
            "grid_row": null,
            "grid_template_areas": null,
            "grid_template_columns": null,
            "grid_template_rows": null,
            "height": null,
            "justify_content": null,
            "justify_items": null,
            "left": null,
            "margin": null,
            "max_height": null,
            "max_width": null,
            "min_height": null,
            "min_width": null,
            "object_fit": null,
            "object_position": null,
            "order": null,
            "overflow": null,
            "overflow_x": null,
            "overflow_y": null,
            "padding": null,
            "right": null,
            "top": null,
            "visibility": null,
            "width": "100px"
          }
        },
        "8832ec27e76448569296cba253ae61a0": {
          "model_module": "@jupyter-widgets/controls",
          "model_name": "DescriptionStyleModel",
          "model_module_version": "1.5.0",
          "state": {
            "_model_module": "@jupyter-widgets/controls",
            "_model_module_version": "1.5.0",
            "_model_name": "DescriptionStyleModel",
            "_view_count": null,
            "_view_module": "@jupyter-widgets/base",
            "_view_module_version": "1.2.0",
            "_view_name": "StyleView",
            "description_width": ""
          }
        },
        "cbbdbc0775a84a28a8b653380a10f04b": {
          "model_module": "@jupyter-widgets/base",
          "model_name": "LayoutModel",
          "model_module_version": "1.2.0",
          "state": {
            "_model_module": "@jupyter-widgets/base",
            "_model_module_version": "1.2.0",
            "_model_name": "LayoutModel",
            "_view_count": null,
            "_view_module": "@jupyter-widgets/base",
            "_view_module_version": "1.2.0",
            "_view_name": "LayoutView",
            "align_content": null,
            "align_items": null,
            "align_self": null,
            "border": null,
            "bottom": null,
            "display": null,
            "flex": null,
            "flex_flow": null,
            "grid_area": null,
            "grid_auto_columns": null,
            "grid_auto_flow": null,
            "grid_auto_rows": null,
            "grid_column": null,
            "grid_gap": null,
            "grid_row": null,
            "grid_template_areas": null,
            "grid_template_columns": null,
            "grid_template_rows": null,
            "height": "53px",
            "justify_content": null,
            "justify_items": null,
            "left": null,
            "margin": null,
            "max_height": null,
            "max_width": null,
            "min_height": null,
            "min_width": null,
            "object_fit": null,
            "object_position": null,
            "order": null,
            "overflow": null,
            "overflow_x": null,
            "overflow_y": null,
            "padding": null,
            "right": null,
            "top": null,
            "visibility": null,
            "width": "200px"
          }
        },
        "c64c62bf9ddc4818a177448147ee084a": {
          "model_module": "@jupyter-widgets/controls",
          "model_name": "ButtonStyleModel",
          "model_module_version": "1.5.0",
          "state": {
            "_model_module": "@jupyter-widgets/controls",
            "_model_module_version": "1.5.0",
            "_model_name": "ButtonStyleModel",
            "_view_count": null,
            "_view_module": "@jupyter-widgets/base",
            "_view_module_version": "1.2.0",
            "_view_name": "StyleView",
            "button_color": null,
            "font_weight": ""
          }
        },
        "05be8b0dc68145c5bff692b16509ad5b": {
          "model_module": "@jupyter-widgets/base",
          "model_name": "LayoutModel",
          "model_module_version": "1.2.0",
          "state": {
            "_model_module": "@jupyter-widgets/base",
            "_model_module_version": "1.2.0",
            "_model_name": "LayoutModel",
            "_view_count": null,
            "_view_module": "@jupyter-widgets/base",
            "_view_module_version": "1.2.0",
            "_view_name": "LayoutView",
            "align_content": null,
            "align_items": null,
            "align_self": null,
            "border": null,
            "bottom": null,
            "display": null,
            "flex": null,
            "flex_flow": null,
            "grid_area": null,
            "grid_auto_columns": null,
            "grid_auto_flow": null,
            "grid_auto_rows": null,
            "grid_column": null,
            "grid_gap": null,
            "grid_row": null,
            "grid_template_areas": null,
            "grid_template_columns": null,
            "grid_template_rows": null,
            "height": "25px",
            "justify_content": null,
            "justify_items": null,
            "left": null,
            "margin": null,
            "max_height": null,
            "max_width": null,
            "min_height": null,
            "min_width": null,
            "object_fit": null,
            "object_position": null,
            "order": null,
            "overflow": null,
            "overflow_x": null,
            "overflow_y": null,
            "padding": null,
            "right": null,
            "top": null,
            "visibility": null,
            "width": "300px"
          }
        },
        "69ca55b3a2fa445eadd70217bbf49439": {
          "model_module": "@jupyter-widgets/controls",
          "model_name": "DescriptionStyleModel",
          "model_module_version": "1.5.0",
          "state": {
            "_model_module": "@jupyter-widgets/controls",
            "_model_module_version": "1.5.0",
            "_model_name": "DescriptionStyleModel",
            "_view_count": null,
            "_view_module": "@jupyter-widgets/base",
            "_view_module_version": "1.2.0",
            "_view_name": "StyleView",
            "description_width": ""
          }
        },
        "5c1d7d82978b4ca1887fd6a69d765af8": {
          "model_module": "@jupyter-widgets/base",
          "model_name": "LayoutModel",
          "model_module_version": "1.2.0",
          "state": {
            "_model_module": "@jupyter-widgets/base",
            "_model_module_version": "1.2.0",
            "_model_name": "LayoutModel",
            "_view_count": null,
            "_view_module": "@jupyter-widgets/base",
            "_view_module_version": "1.2.0",
            "_view_name": "LayoutView",
            "align_content": null,
            "align_items": null,
            "align_self": null,
            "border": null,
            "bottom": null,
            "display": null,
            "flex": null,
            "flex_flow": null,
            "grid_area": null,
            "grid_auto_columns": null,
            "grid_auto_flow": null,
            "grid_auto_rows": null,
            "grid_column": null,
            "grid_gap": null,
            "grid_row": null,
            "grid_template_areas": null,
            "grid_template_columns": null,
            "grid_template_rows": null,
            "height": "24px",
            "justify_content": null,
            "justify_items": null,
            "left": null,
            "margin": null,
            "max_height": null,
            "max_width": null,
            "min_height": null,
            "min_width": null,
            "object_fit": null,
            "object_position": null,
            "order": null,
            "overflow": null,
            "overflow_x": null,
            "overflow_y": null,
            "padding": null,
            "right": null,
            "top": null,
            "visibility": null,
            "width": "300px"
          }
        },
        "778c2797134e4746a8e4f70ba20baf36": {
          "model_module": "@jupyter-widgets/controls",
          "model_name": "DescriptionStyleModel",
          "model_module_version": "1.5.0",
          "state": {
            "_model_module": "@jupyter-widgets/controls",
            "_model_module_version": "1.5.0",
            "_model_name": "DescriptionStyleModel",
            "_view_count": null,
            "_view_module": "@jupyter-widgets/base",
            "_view_module_version": "1.2.0",
            "_view_name": "StyleView",
            "description_width": ""
          }
        }
      }
    }
  },
  "nbformat": 4,
  "nbformat_minor": 0
}